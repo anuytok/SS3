{
 "cells": [
  {
   "cell_type": "code",
   "execution_count": 1,
   "metadata": {
    "ExecuteTime": {
     "end_time": "2020-06-14T19:25:45.921116Z",
     "start_time": "2020-06-14T19:25:38.272529Z"
    },
    "scrolled": true
   },
   "outputs": [
    {
     "name": "stdout",
     "output_type": "stream",
     "text": [
      "WARNING:tensorflow:\n",
      "The TensorFlow contrib module will not be included in TensorFlow 2.0.\n",
      "For more information, please see:\n",
      "  * https://github.com/tensorflow/community/blob/master/rfcs/20180907-contrib-sunset.md\n",
      "  * https://github.com/tensorflow/addons\n",
      "  * https://github.com/tensorflow/io (for I/O related ops)\n",
      "If you depend on functionality not listed there, please file an issue.\n",
      "\n"
     ]
    }
   ],
   "source": [
    "import os\n",
    "\n",
    "from ludwig.api import LudwigModel\n",
    "\n",
    "import pandas as pd\n",
    "import numpy as np"
   ]
  },
  {
   "cell_type": "markdown",
   "metadata": {},
   "source": [
    "# Подготовка данных"
   ]
  },
  {
   "cell_type": "code",
   "execution_count": 4,
   "metadata": {
    "ExecuteTime": {
     "end_time": "2020-06-14T19:26:04.616430Z",
     "start_time": "2020-06-14T19:25:54.498470Z"
    }
   },
   "outputs": [
    {
     "name": "stdout",
     "output_type": "stream",
     "text": [
      "--2020-06-14 22:25:54--  https://github.com/DeepLenin/fashion-mnist_png/raw/master/data.zip\n",
      "Resolving github.com (github.com)... 140.82.118.4\n",
      "Connecting to github.com (github.com)|140.82.118.4|:443... connected.\n",
      "HTTP request sent, awaiting response... 302 Found\n",
      "Location: https://raw.githubusercontent.com/DeepLenin/fashion-mnist_png/master/data.zip [following]\n",
      "--2020-06-14 22:25:55--  https://raw.githubusercontent.com/DeepLenin/fashion-mnist_png/master/data.zip\n",
      "Resolving raw.githubusercontent.com (raw.githubusercontent.com)... 151.101.36.133\n",
      "Connecting to raw.githubusercontent.com (raw.githubusercontent.com)|151.101.36.133|:443... connected.\n",
      "HTTP request sent, awaiting response... 200 OK\n",
      "Length: 48027867 (46M) [application/zip]\n",
      "Saving to: ‘data.zip’\n",
      "\n",
      "data.zip            100%[===================>]  45,80M  9,96MB/s    in 5,5s    \n",
      "\n",
      "2020-06-14 22:26:04 (8,38 MB/s) - ‘data.zip’ saved [48027867/48027867]\n",
      "\n"
     ]
    }
   ],
   "source": [
    "! wget https://github.com/DeepLenin/fashion-mnist_png/raw/master/data.zip"
   ]
  },
  {
   "cell_type": "code",
   "execution_count": 5,
   "metadata": {
    "ExecuteTime": {
     "end_time": "2020-06-14T19:26:24.280055Z",
     "start_time": "2020-06-14T19:26:06.201796Z"
    },
    "scrolled": true
   },
   "outputs": [],
   "source": [
    "! unzip data.zip"
   ]
  },
  {
   "cell_type": "code",
   "execution_count": 11,
   "metadata": {
    "ExecuteTime": {
     "end_time": "2020-06-14T19:27:23.409857Z",
     "start_time": "2020-06-14T19:27:23.038548Z"
    }
   },
   "outputs": [],
   "source": [
    "for name in ['train', 'test']:\n",
    "    with open('mnist_dataset_{}.csv'.format(name), 'w') as output_file:\n",
    "        print('=== creating {} dataset ==='.format(name))\n",
    "        output_file.write('image_path,label\\n')\n",
    "        for i in range(10):\n",
    "            path = os.path.abspath('./data/{}/{}'.format(name, i))\n",
    "            for file in os.listdir(path):\n",
    "                if file.endswith(\".png\"):\n",
    "                    output_file.write('{},{}\\n'.\n",
    "                                      format(os.path.join(path, file), str(i)))"
   ]
  },
  {
   "cell_type": "code",
   "execution_count": 12,
   "metadata": {
    "ExecuteTime": {
     "end_time": "2020-06-14T19:27:36.831848Z",
     "start_time": "2020-06-14T19:27:36.751659Z"
    }
   },
   "outputs": [],
   "source": [
    "train_df = pd.read_csv('./mnist_dataset_train.csv')\n",
    "test_df = pd.read_csv('./mnist_dataset_test.csv')"
   ]
  },
  {
   "cell_type": "markdown",
   "metadata": {},
   "source": [
    "# Обучение модели "
   ]
  },
  {
   "cell_type": "code",
   "execution_count": 26,
   "metadata": {
    "ExecuteTime": {
     "end_time": "2020-06-14T19:28:52.461060Z",
     "start_time": "2020-06-14T19:28:52.449931Z"
    }
   },
   "outputs": [],
   "source": [
    "model_definition = {'input_features':\n",
    "                    [{'name': 'image_path', 'type': 'image',\n",
    "                      'encoder': 'stacked_cnn',\n",
    "                      'conv_layers': [{'num_filters': 32, 'filter_size': 3,\n",
    "                                       'pool_size': 2, 'pool_stride': 2},\n",
    "                                      {'num_filters': 64, 'filter_size': 3,\n",
    "                                       'pool_size': 2, 'pool_stride': 2,\n",
    "                                       'dropout': True}],\n",
    "                     'fc_layers': [{'fc_size': 128,\n",
    "                                   'dropout': True}]}],\n",
    "                    'output_features':\n",
    "                    [{'name': 'label', 'type': 'category'}],\n",
    "                    'training': {'dropout_rate': 0.4}}"
   ]
  },
  {
   "cell_type": "code",
   "execution_count": 44,
   "metadata": {
    "ExecuteTime": {
     "end_time": "2020-06-14T18:04:01.946520Z",
     "start_time": "2020-06-14T18:04:01.942221Z"
    },
    "scrolled": true
   },
   "outputs": [],
   "source": [
    "model = LudwigModel(model_definition)"
   ]
  },
  {
   "cell_type": "code",
   "execution_count": 46,
   "metadata": {
    "ExecuteTime": {
     "end_time": "2020-06-14T18:56:47.570143Z",
     "start_time": "2020-06-14T18:04:04.239696Z"
    },
    "scrolled": true
   },
   "outputs": [
    {
     "name": "stdout",
     "output_type": "stream",
     "text": [
      "WARNING:tensorflow:From /Users/levbednyagin/PycharmProjects/jup/lib/python3.7/site-packages/ludwig/models/modules/convolutional_modules.py:74: dropout (from tensorflow.python.layers.core) is deprecated and will be removed in a future version.\n",
      "Instructions for updating:\n",
      "Use keras.layers.dropout instead.\n",
      "WARNING:tensorflow:From /Users/levbednyagin/PycharmProjects/jup/lib/python3.7/site-packages/tensorflow_core/python/layers/core.py:271: Layer.apply (from tensorflow.python.keras.engine.base_layer) is deprecated and will be removed in a future version.\n",
      "Instructions for updating:\n",
      "Please use `layer.__call__` method instead.\n",
      "WARNING:tensorflow:From /Users/levbednyagin/PycharmProjects/jup/lib/python3.7/site-packages/ludwig/models/modules/convolutional_modules.py:585: The name tf.nn.max_pool is deprecated. Please use tf.nn.max_pool2d instead.\n",
      "\n"
     ]
    }
   ],
   "source": [
    "train_stats = model.train(train_df)"
   ]
  },
  {
   "cell_type": "markdown",
   "metadata": {},
   "source": [
    "# Оценка на тестовых данных"
   ]
  },
  {
   "cell_type": "code",
   "execution_count": 65,
   "metadata": {
    "ExecuteTime": {
     "end_time": "2020-06-14T19:12:21.101832Z",
     "start_time": "2020-06-14T19:12:07.879540Z"
    }
   },
   "outputs": [],
   "source": [
    "test_results_df, test_statistics = model.test(test_df)"
   ]
  },
  {
   "cell_type": "code",
   "execution_count": 68,
   "metadata": {
    "ExecuteTime": {
     "end_time": "2020-06-14T19:12:45.099255Z",
     "start_time": "2020-06-14T19:12:45.094109Z"
    }
   },
   "outputs": [
    {
     "data": {
      "text/plain": [
       "0.877"
      ]
     },
     "execution_count": 68,
     "metadata": {},
     "output_type": "execute_result"
    }
   ],
   "source": [
    "test_statistics.get('label').get('accuracy')"
   ]
  }
 ],
 "metadata": {
  "kernelspec": {
   "display_name": "Python 3",
   "language": "python",
   "name": "python3"
  },
  "language_info": {
   "codemirror_mode": {
    "name": "ipython",
    "version": 3
   },
   "file_extension": ".py",
   "mimetype": "text/x-python",
   "name": "python",
   "nbconvert_exporter": "python",
   "pygments_lexer": "ipython3",
   "version": "3.7.7"
  },
  "toc": {
   "base_numbering": 1,
   "nav_menu": {},
   "number_sections": true,
   "sideBar": true,
   "skip_h1_title": false,
   "title_cell": "Table of Contents",
   "title_sidebar": "Contents",
   "toc_cell": false,
   "toc_position": {},
   "toc_section_display": true,
   "toc_window_display": false
  }
 },
 "nbformat": 4,
 "nbformat_minor": 4
}
